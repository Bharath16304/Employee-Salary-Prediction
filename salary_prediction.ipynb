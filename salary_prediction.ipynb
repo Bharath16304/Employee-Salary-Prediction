{
 "cells": [
  {
   "cell_type": "code",
   "execution_count": 46,
   "id": "76bbbcf3",
   "metadata": {},
   "outputs": [],
   "source": [
    "import pandas as pd\n",
    "import numpy as np\n",
    "from sklearn.model_selection import train_test_split\n",
    "from sklearn.preprocessing import OneHotEncoder\n",
    "from sklearn.ensemble import RandomForestClassifier\n",
    "from sklearn.pipeline import make_pipeline\n",
    "from sklearn.compose import ColumnTransformer\n",
    "import joblib"
   ]
  },
  {
   "cell_type": "code",
   "execution_count": 47,
   "id": "d0594901",
   "metadata": {},
   "outputs": [],
   "source": [
    "# Load & clean the data\n",
    "df = pd.read_csv(\"adult 3.csv\")\n",
    "df.replace(' ?', np.nan, inplace=True)\n",
    "df.dropna(inplace=True)"
   ]
  },
  {
   "cell_type": "code",
   "execution_count": 48,
   "id": "c040e6e3",
   "metadata": {},
   "outputs": [],
   "source": [
    "# Features and target\n",
    "X = df.drop(\"income\", axis=1)\n",
    "y = df[\"income\"].apply(lambda x: 1 if x == \">50K\" else 0)\n"
   ]
  },
  {
   "cell_type": "code",
   "execution_count": 49,
   "id": "dd58a155",
   "metadata": {},
   "outputs": [],
   "source": [
    "# Identify categorical columns\n",
    "categorical_cols = X.select_dtypes(include=[\"object\"]).columns.tolist()"
   ]
  },
  {
   "cell_type": "code",
   "execution_count": 50,
   "id": "faea9e28",
   "metadata": {},
   "outputs": [],
   "source": [
    "# Preprocessing pipeline\n",
    "preprocessor = ColumnTransformer([\n",
    "    (\"cat\", OneHotEncoder(handle_unknown=\"ignore\"), categorical_cols)\n",
    "], remainder=\"passthrough\")"
   ]
  },
  {
   "cell_type": "code",
   "execution_count": 51,
   "id": "4282ea78",
   "metadata": {},
   "outputs": [],
   "source": [
    "# Create pipeline\n",
    "model = make_pipeline(preprocessor, RandomForestClassifier(n_estimators=100, random_state=42))"
   ]
  },
  {
   "cell_type": "code",
   "execution_count": 52,
   "id": "b86adc29",
   "metadata": {},
   "outputs": [],
   "source": [
    "# Train-test split\n",
    "X_train, X_test, y_train, y_test = train_test_split(X, y, test_size=0.2, random_state=42)"
   ]
  },
  {
   "cell_type": "code",
   "execution_count": null,
   "id": "64ea0302",
   "metadata": {},
   "outputs": [],
   "source": [
    "# Train the pipeline\n",
    "model.fit(X_train, y_train)"
   ]
  },
  {
   "cell_type": "code",
   "execution_count": null,
   "id": "72db863a",
   "metadata": {},
   "outputs": [],
   "source": [
    "# Save the trained model\n",
    "joblib.dump(model, \"model_lightgbm_v2.pkl\")"
   ]
  },
  {
   "cell_type": "code",
   "execution_count": null,
   "id": "29bf3b1f",
   "metadata": {},
   "outputs": [],
   "source": [
    "# ✅ Save feature names from the preprocessor\n",
    "# Get feature names from OneHotEncoder\n",
    "encoder = model.named_steps['columntransformer'].named_transformers_['cat']\n",
    "encoded_feature_names = encoder.get_feature_names_out(categorical_cols)\n"
   ]
  },
  {
   "cell_type": "code",
   "execution_count": null,
   "id": "8c977ec9",
   "metadata": {},
   "outputs": [],
   "source": [
    "# Get all final feature names (encoded + numeric)\n",
    "non_cat_cols = [col for col in X.columns if col not in categorical_cols]\n",
    "final_feature_names = list(encoded_feature_names) + non_cat_cols"
   ]
  },
  {
   "cell_type": "code",
   "execution_count": null,
   "id": "971a4b46",
   "metadata": {},
   "outputs": [],
   "source": [
    "# Save feature names\n",
    "joblib.dump(final_feature_names, \"model_features.pkl\")\n",
    "\n",
    "print(\"✅ Model and feature names saved successfully.\")\n"
   ]
  },
  {
   "cell_type": "code",
   "execution_count": null,
   "id": "87924a4f",
   "metadata": {},
   "outputs": [],
   "source": []
  }
 ],
 "metadata": {
  "kernelspec": {
   "display_name": "Python 3 (ipykernel)",
   "language": "python",
   "name": "python3"
  },
  "language_info": {
   "codemirror_mode": {
    "name": "ipython",
    "version": 3
   },
   "file_extension": ".py",
   "mimetype": "text/x-python",
   "name": "python",
   "nbconvert_exporter": "python",
   "pygments_lexer": "ipython3",
   "version": "3.9.12"
  }
 },
 "nbformat": 4,
 "nbformat_minor": 5
}
